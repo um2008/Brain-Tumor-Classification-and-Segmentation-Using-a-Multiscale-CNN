{
 "cells": [
  {
   "cell_type": "code",
   "execution_count": 1,
   "id": "f1a735aa",
   "metadata": {
    "execution": {
     "iopub.execute_input": "2024-05-25T20:44:37.007163Z",
     "iopub.status.busy": "2024-05-25T20:44:37.006378Z",
     "iopub.status.idle": "2024-05-25T20:44:37.953783Z",
     "shell.execute_reply": "2024-05-25T20:44:37.952513Z"
    },
    "papermill": {
     "duration": 0.957167,
     "end_time": "2024-05-25T20:44:37.956360",
     "exception": false,
     "start_time": "2024-05-25T20:44:36.999193",
     "status": "completed"
    },
    "tags": []
   },
   "outputs": [],
   "source": [
    "!rm -rf /kaggle/working/*"
   ]
  },
  {
   "cell_type": "code",
   "execution_count": 2,
   "id": "c3a921f9",
   "metadata": {
    "_cell_guid": "b1076dfc-b9ad-4769-8c92-a6c4dae69d19",
    "_uuid": "8f2839f25d086af736a60e9eeb907d3b93b6e0e5",
    "execution": {
     "iopub.execute_input": "2024-05-25T20:44:37.969279Z",
     "iopub.status.busy": "2024-05-25T20:44:37.968932Z",
     "iopub.status.idle": "2024-05-25T20:44:45.089656Z",
     "shell.execute_reply": "2024-05-25T20:44:45.088749Z"
    },
    "papermill": {
     "duration": 7.130124,
     "end_time": "2024-05-25T20:44:45.092272",
     "exception": false,
     "start_time": "2024-05-25T20:44:37.962148",
     "status": "completed"
    },
    "tags": []
   },
   "outputs": [],
   "source": [
    "import os\n",
    "import pickle\n",
    "import torch\n",
    "import torch.nn.functional as F\n",
    "from torch.utils.data import Dataset, DataLoader\n",
    "from torchvision import transforms\n",
    "from PIL import Image\n",
    "from sklearn.model_selection import train_test_split\n",
    "\n",
    "device = torch.device(\"cuda:0\" if torch.cuda.is_available() else \"cpu\")\n",
    "# Load labels from pickle file\n",
    "with open('/kaggle/input/brain-tumor-dataset/Dataset/labels.pickle', 'rb') as f:\n",
    "    labels = pickle.load(f)\n",
    "\n",
    "# Define image and mask directories\n",
    "image_dir = '/kaggle/input/brain-tumor-dataset/Dataset/Images'\n",
    "mask_dir = '/kaggle/input/brain-tumor-dataset/Dataset/Masks'\n",
    "\n",
    "# Create list of image and mask paths\n",
    "image_paths = [os.path.join(image_dir, filename) for filename in os.listdir(image_dir)]\n",
    "mask_paths = [os.path.join(mask_dir, filename) for filename in os.listdir(mask_dir)]\n",
    "\n",
    "class MedicalImageDataset(Dataset):\n",
    "    def __init__(self, image_paths, mask_paths, labels, transform=None, target_size=(128, 128), pad_size=(192, 192)):\n",
    "        self.image_paths = image_paths\n",
    "        self.mask_paths = mask_paths\n",
    "        self.labels = labels\n",
    "        self.transform = transform\n",
    "        self.target_size = target_size\n",
    "        self.pad_size = pad_size\n",
    "\n",
    "    def __len__(self):\n",
    "        return len(self.image_paths)\n",
    "\n",
    "    def preprocess(self, image_path, mask_path):\n",
    "        image = Image.open(image_path).convert('L')\n",
    "        image = image.resize(self.target_size)\n",
    "        \n",
    "        mask = Image.open(mask_path).convert('L')\n",
    "        mask = mask.resize(self.target_size)\n",
    "\n",
    "        image = transforms.ToTensor()(image).float()\n",
    "        mask = transforms.ToTensor()(mask).float()\n",
    "        mask = (mask > 0).float()\n",
    "\n",
    "        return image, mask\n",
    "\n",
    "    def pad_image(self, image):\n",
    "        pad_h = (self.pad_size[0] - image.size(1)) // 2\n",
    "        pad_w = (self.pad_size[1] - image.size(2)) // 2\n",
    "\n",
    "        image = F.pad(image, (pad_w, pad_w, pad_h, pad_h), 'constant', 0)\n",
    "\n",
    "        return image\n",
    "\n",
    "    def __getitem__(self, idx):\n",
    "        image_path = self.image_paths[idx]\n",
    "        mask_path = self.mask_paths[idx]\n",
    "        label = self.labels[idx]\n",
    "\n",
    "        image, mask = self.preprocess(image_path, mask_path)\n",
    "        image= self.pad_image(image)\n",
    "#         print(\"image size\", image.shape)\n",
    "#         print(\"mask size\", mask.shape)\n",
    "\n",
    "        return image, mask, label\n",
    "\n",
    "# Split the dataset into training and testing sets\n",
    "train_image_paths, test_image_paths, train_mask_paths, test_mask_paths, train_labels, test_labels = train_test_split(\n",
    "    image_paths, mask_paths, labels, test_size=0.2, random_state=42)\n",
    "\n",
    "# Define the dataset\n",
    "train_dataset = MedicalImageDataset(train_image_paths, train_mask_paths, train_labels)\n",
    "test_dataset = MedicalImageDataset(test_image_paths, test_mask_paths, test_labels)\n",
    "\n",
    "# Define DataLoaders\n",
    "batch_size = 32\n",
    "train_loader = DataLoader(train_dataset, batch_size=batch_size, shuffle=True, num_workers=4, pin_memory=True)\n",
    "test_loader = DataLoader(test_dataset, batch_size=batch_size, shuffle=False, num_workers=4, pin_memory=True)\n"
   ]
  },
  {
   "cell_type": "code",
   "execution_count": 3,
   "id": "09af65c8",
   "metadata": {
    "execution": {
     "iopub.execute_input": "2024-05-25T20:44:45.105151Z",
     "iopub.status.busy": "2024-05-25T20:44:45.104741Z",
     "iopub.status.idle": "2024-05-25T20:45:04.384438Z",
     "shell.execute_reply": "2024-05-25T20:45:04.383217Z"
    },
    "papermill": {
     "duration": 19.288477,
     "end_time": "2024-05-25T20:45:04.386705",
     "exception": false,
     "start_time": "2024-05-25T20:44:45.098228",
     "status": "completed"
    },
    "tags": []
   },
   "outputs": [
    {
     "name": "stdout",
     "output_type": "stream",
     "text": [
      "77\n"
     ]
    }
   ],
   "source": [
    "cnt_b=0\n",
    "for image,mask,label in train_loader:\n",
    "    cnt_b+=1\n",
    "    \n",
    "print(cnt_b)"
   ]
  },
  {
   "cell_type": "code",
   "execution_count": 4,
   "id": "091a0535",
   "metadata": {
    "execution": {
     "iopub.execute_input": "2024-05-25T20:45:04.399155Z",
     "iopub.status.busy": "2024-05-25T20:45:04.398811Z",
     "iopub.status.idle": "2024-05-25T20:45:06.024811Z",
     "shell.execute_reply": "2024-05-25T20:45:06.023731Z"
    },
    "papermill": {
     "duration": 1.634888,
     "end_time": "2024-05-25T20:45:06.027160",
     "exception": false,
     "start_time": "2024-05-25T20:45:04.392272",
     "status": "completed"
    },
    "tags": []
   },
   "outputs": [],
   "source": [
    "image, mask, label=next(iter(train_loader))"
   ]
  },
  {
   "cell_type": "code",
   "execution_count": 5,
   "id": "ba13a9e3",
   "metadata": {
    "execution": {
     "iopub.execute_input": "2024-05-25T20:45:06.039772Z",
     "iopub.status.busy": "2024-05-25T20:45:06.039460Z",
     "iopub.status.idle": "2024-05-25T20:45:06.067307Z",
     "shell.execute_reply": "2024-05-25T20:45:06.066248Z"
    },
    "papermill": {
     "duration": 0.036373,
     "end_time": "2024-05-25T20:45:06.069323",
     "exception": false,
     "start_time": "2024-05-25T20:45:06.032950",
     "status": "completed"
    },
    "tags": []
   },
   "outputs": [
    {
     "name": "stdout",
     "output_type": "stream",
     "text": [
      "torch.Size([32, 1, 192, 192])  img_shape\n",
      "torch.Size([32, 1, 128, 128])  mask_shape\n",
      "tensor([3., 3., 2., 3., 2., 3., 1., 3., 2., 3., 1., 3., 2., 2., 2., 2., 1., 2.,\n",
      "        3., 3., 2., 1., 1., 2., 2., 3., 2., 3., 3., 3., 1., 3.],\n",
      "       dtype=torch.float64)  label\n"
     ]
    }
   ],
   "source": [
    "print(image.shape,\" img_shape\")\n",
    "print(mask.shape,\" mask_shape\")\n",
    "print(label,\" label\")"
   ]
  },
  {
   "cell_type": "code",
   "execution_count": 6,
   "id": "d3bd88aa",
   "metadata": {
    "execution": {
     "iopub.execute_input": "2024-05-25T20:45:06.081280Z",
     "iopub.status.busy": "2024-05-25T20:45:06.080960Z",
     "iopub.status.idle": "2024-05-25T20:45:06.085155Z",
     "shell.execute_reply": "2024-05-25T20:45:06.084310Z"
    },
    "papermill": {
     "duration": 0.012196,
     "end_time": "2024-05-25T20:45:06.086959",
     "exception": false,
     "start_time": "2024-05-25T20:45:06.074763",
     "status": "completed"
    },
    "tags": []
   },
   "outputs": [],
   "source": [
    "import matplotlib.pyplot as plt"
   ]
  },
  {
   "cell_type": "code",
   "execution_count": 7,
   "id": "1426930b",
   "metadata": {
    "execution": {
     "iopub.execute_input": "2024-05-25T20:45:06.098979Z",
     "iopub.status.busy": "2024-05-25T20:45:06.098714Z",
     "iopub.status.idle": "2024-05-25T20:45:06.618341Z",
     "shell.execute_reply": "2024-05-25T20:45:06.617432Z"
    },
    "papermill": {
     "duration": 0.527828,
     "end_time": "2024-05-25T20:45:06.620270",
     "exception": false,
     "start_time": "2024-05-25T20:45:06.092442",
     "status": "completed"
    },
    "tags": []
   },
   "outputs": [
    {
     "name": "stdout",
     "output_type": "stream",
     "text": [
      "torch.Size([192, 192])\n"
     ]
    },
    {
     "data": {
      "image/png": "[encoded data removed]",
      "text/plain": [
       "<Figure size 640x480 with 1 Axes>"
      ]
     },
     "metadata": {},
     "output_type": "display_data"
    },
    {
     "data": {
      "image/png": "[encoded data removed]",
      "text/plain": [
       "<Figure size 640x480 with 1 Axes>"
      ]
     },
     "metadata": {},
     "output_type": "display_data"
    }
   ],
   "source": [
    "plt.imshow(image[0][0],cmap='gray')\n",
    "print(image[0][0].shape)\n",
    "plt.show()\n",
    "plt.imshow(mask[0][0],cmap='gray')\n",
    "plt.show()"
   ]
  },
  {
   "cell_type": "code",
   "execution_count": 8,
   "id": "d04e9cdc",
   "metadata": {
    "execution": {
     "iopub.execute_input": "2024-05-25T20:45:06.634848Z",
     "iopub.status.busy": "2024-05-25T20:45:06.634553Z",
     "iopub.status.idle": "2024-05-25T20:45:06.639319Z",
     "shell.execute_reply": "2024-05-25T20:45:06.638500Z"
    },
    "papermill": {
     "duration": 0.014292,
     "end_time": "2024-05-25T20:45:06.641210",
     "exception": false,
     "start_time": "2024-05-25T20:45:06.626918",
     "status": "completed"
    },
    "tags": []
   },
   "outputs": [],
   "source": [
    "import numpy as np\n",
    "import torch\n",
    "import torch.nn as nn\n",
    "import torch.optim as optim\n",
    "from tqdm import tqdm\n",
    "import os\n",
    "device = torch.device(\"cuda:0\" if torch.cuda.is_available() else \"cpu\")\n",
    "# from torchsummary import summary"
   ]
  },
  {
   "cell_type": "code",
   "execution_count": 9,
   "id": "9a18c0ee",
   "metadata": {
    "execution": {
     "iopub.execute_input": "2024-05-25T20:45:06.655695Z",
     "iopub.status.busy": "2024-05-25T20:45:06.655424Z",
     "iopub.status.idle": "2024-05-25T20:45:06.668027Z",
     "shell.execute_reply": "2024-05-25T20:45:06.667186Z"
    },
    "papermill": {
     "duration": 0.022067,
     "end_time": "2024-05-25T20:45:06.669851",
     "exception": false,
     "start_time": "2024-05-25T20:45:06.647784",
     "status": "completed"
    },
    "tags": []
   },
   "outputs": [],
   "source": [
    "class MultiscaleCNN(nn.Module):\n",
    "    def __init__(self):\n",
    "        super(MultiscaleCNN, self).__init__()\n",
    "        self.branch1 = nn.Sequential(\n",
    "            nn.Conv2d(1, 128, kernel_size=(11,11), padding=4),\n",
    "            nn.ReLU(),\n",
    "            nn.MaxPool2d(kernel_size=3, stride=2),\n",
    "            nn.Conv2d(128, 128, kernel_size=(11,11), padding=4),\n",
    "            nn.ReLU(),\n",
    "            nn.MaxPool2d(kernel_size=3, stride=2)\n",
    "        )\n",
    "        self.branch2 = nn.Sequential(\n",
    "            nn.Conv2d(1, 96, kernel_size=7, padding=2),\n",
    "            nn.ReLU(),\n",
    "            nn.MaxPool2d(kernel_size=3, stride=2),\n",
    "            nn.Conv2d(96, 96, kernel_size=7, padding=2),\n",
    "            nn.ReLU(),\n",
    "            nn.MaxPool2d(kernel_size=3, stride=2)\n",
    "        )\n",
    "        self.branch3 = nn.Sequential(\n",
    "            nn.Conv2d(1, 64, kernel_size=3),\n",
    "            nn.ReLU(),\n",
    "            nn.MaxPool2d(kernel_size=3, stride=2),\n",
    "            nn.Conv2d(64, 64, kernel_size=3),\n",
    "            nn.ReLU(),\n",
    "            nn.MaxPool2d(kernel_size=3, stride=2)\n",
    "        )\n",
    "        self.merge = nn.Sequential(\n",
    "            nn.Conv2d(288, 128, kernel_size=3,padding=1),\n",
    "            nn.ReLU(),\n",
    "            nn.MaxPool2d(kernel_size=2, stride=2,padding=1),\n",
    "            nn.Flatten(0),\n",
    "            nn.Linear(128 * 8 * 8, 8192),\n",
    "            nn.ReLU(),\n",
    "            nn.Dropout(0.1),\n",
    "            nn.Linear(8192, 4),\n",
    "            nn.Softmax(dim=0)\n",
    "        )\n",
    "\n",
    "    def forward(self, x):\n",
    "#         print(x.shape, \" x\")\n",
    "        x1 = self.branch1(x)\n",
    "        x2 = self.branch2(x)\n",
    "        x3 = self.branch3(x)\n",
    "        x_merge = torch.cat((x1, x2, x3), dim=0)\n",
    "        x_fin = self.merge(x_merge)\n",
    "#         x1 = self.branch1[0](x)\n",
    "#         print(x1.shape,\" x1 after first Conv2d\")\n",
    "#         x1 = self.branch1[1](x1)\n",
    "# #         print(x1.shape,\" x1\")\n",
    "#         x1 = self.branch1[2](x1)\n",
    "#         print(x1.shape,\" x1 after first MaxPool2d\")\n",
    "#         x1 = self.branch1[3](x1)\n",
    "#         print(x1.shape,\" x1 after second Conv2d\")\n",
    "#         x1 = self.branch1[4](x1)\n",
    "# #         print(x1.shape,\" x1\")\n",
    "#         x1 = self.branch1[5](x1)\n",
    "#         print(x1.shape,\" x1 after second MaxPool2d\")\n",
    "#         x2 = self.branch2(x)\n",
    "#         print(x2.shape,\" x2\")\n",
    "#         x3 = self.branch3(x)\n",
    "#         print(x3.shape,\" x3\")\n",
    "#         x_merge = torch.cat((x1, x2, x3), dim=0)\n",
    "#         print(x_merge.shape,\" x merge not concaternating\")\n",
    "#         x_fin = self.merge[0](x_merge)\n",
    "#         print(x_fin.shape, \" x merge 0\")\n",
    "#         x_fin = self.merge[1](x_fin)\n",
    "#         print(x_fin.shape, \" x merge 1\")\n",
    "#         x_fin = self.merge[2](x_fin)\n",
    "#         print(x_fin.shape, \" x merge 2 max pool\")\n",
    "#         x_fin = self.merge[3](x_fin)\n",
    "#         print(x_fin.shape, \" x merge 3\")\n",
    "#         x_fin = self.merge[4](x_fin)\n",
    "#         print(x_fin.shape, \" x merge 4\")\n",
    "#         x_fin = self.merge[5](x_fin)\n",
    "#         print(x_fin.shape, \" x merge 5\")\n",
    "#         x_fin = self.merge[6](x_fin)\n",
    "#         print(x_fin.shape, \" x merge 6\")\n",
    "#         x_fin = self.merge[7](x_fin)\n",
    "#         print(x_fin.shape, \" x merge 7\")\n",
    "\n",
    "        return x_fin\n"
   ]
  },
  {
   "cell_type": "code",
   "execution_count": 10,
   "id": "ae1b1de7",
   "metadata": {
    "execution": {
     "iopub.execute_input": "2024-05-25T20:45:06.683752Z",
     "iopub.status.busy": "2024-05-25T20:45:06.683489Z",
     "iopub.status.idle": "2024-05-25T20:45:07.431678Z",
     "shell.execute_reply": "2024-05-25T20:45:07.430800Z"
    },
    "papermill": {
     "duration": 0.757696,
     "end_time": "2024-05-25T20:45:07.433969",
     "exception": false,
     "start_time": "2024-05-25T20:45:06.676273",
     "status": "completed"
    },
    "tags": []
   },
   "outputs": [],
   "source": [
    "model = MultiscaleCNN()\n",
    "model=model.to(device)"
   ]
  },
  {
   "cell_type": "code",
   "execution_count": 11,
   "id": "a0b29c66",
   "metadata": {
    "execution": {
     "iopub.execute_input": "2024-05-25T20:45:07.448706Z",
     "iopub.status.busy": "2024-05-25T20:45:07.448420Z",
     "iopub.status.idle": "2024-05-25T20:45:07.452096Z",
     "shell.execute_reply": "2024-05-25T20:45:07.451256Z"
    },
    "papermill": {
     "duration": 0.01294,
     "end_time": "2024-05-25T20:45:07.453891",
     "exception": false,
     "start_time": "2024-05-25T20:45:07.440951",
     "status": "completed"
    },
    "tags": []
   },
   "outputs": [],
   "source": [
    "# print(model)"
   ]
  },
  {
   "cell_type": "code",
   "execution_count": 12,
   "id": "052682f4",
   "metadata": {
    "execution": {
     "iopub.execute_input": "2024-05-25T20:45:07.467847Z",
     "iopub.status.busy": "2024-05-25T20:45:07.467572Z",
     "iopub.status.idle": "2024-05-25T20:45:07.472814Z",
     "shell.execute_reply": "2024-05-25T20:45:07.472154Z"
    },
    "papermill": {
     "duration": 0.014235,
     "end_time": "2024-05-25T20:45:07.474582",
     "exception": false,
     "start_time": "2024-05-25T20:45:07.460347",
     "status": "completed"
    },
    "tags": []
   },
   "outputs": [],
   "source": [
    "x = torch.randn((1, 65, 65)).to(device)"
   ]
  },
  {
   "cell_type": "code",
   "execution_count": 13,
   "id": "bf9f09f8",
   "metadata": {
    "execution": {
     "iopub.execute_input": "2024-05-25T20:45:07.488621Z",
     "iopub.status.busy": "2024-05-25T20:45:07.488354Z",
     "iopub.status.idle": "2024-05-25T20:45:08.330786Z",
     "shell.execute_reply": "2024-05-25T20:45:08.329832Z"
    },
    "papermill": {
     "duration": 0.851663,
     "end_time": "2024-05-25T20:45:08.332935",
     "exception": false,
     "start_time": "2024-05-25T20:45:07.481272",
     "status": "completed"
    },
    "tags": []
   },
   "outputs": [
    {
     "data": {
      "text/plain": [
       "tensor([0.2456, 0.2669, 0.2587, 0.2288], device='cuda:0',\n",
       "       grad_fn=<SoftmaxBackward0>)"
      ]
     },
     "execution_count": 13,
     "metadata": {},
     "output_type": "execute_result"
    }
   ],
   "source": [
    "model(x)"
   ]
  },
  {
   "cell_type": "code",
   "execution_count": 14,
   "id": "87183f05",
   "metadata": {
    "execution": {
     "iopub.execute_input": "2024-05-25T20:45:08.347825Z",
     "iopub.status.busy": "2024-05-25T20:45:08.347511Z",
     "iopub.status.idle": "2024-05-25T20:45:08.372110Z",
     "shell.execute_reply": "2024-05-25T20:45:08.371346Z"
    },
    "papermill": {
     "duration": 0.034314,
     "end_time": "2024-05-25T20:45:08.374082",
     "exception": false,
     "start_time": "2024-05-25T20:45:08.339768",
     "status": "completed"
    },
    "tags": []
   },
   "outputs": [],
   "source": [
    "\n",
    "def save_tensor_as_image(tensor, path):\n",
    "    # Convert the tensor to a PIL image\n",
    "    tensor = tensor.cpu().detach()\n",
    "    transform = transforms.ToPILImage()\n",
    "    image = transform(tensor)\n",
    "    image.save(path)\n",
    "\n",
    "def train(model, train_loader, num_epochs, checkpoint_dir='/kaggle/working/'):\n",
    "    optimizer = optim.SGD(model.parameters(), lr=0.005, momentum=0.9)\n",
    "    loss_fn = nn.CrossEntropyLoss()\n",
    "    decayRate = 0.5\n",
    "    lr_scheduler = optim.lr_scheduler.ExponentialLR(optimizer=optimizer, gamma=decayRate)\n",
    "\n",
    "#     if not os.path.exists(checkpoint_dir):\n",
    "#         os.makedirs(checkpoint_dir)\n",
    "\n",
    "    output_dir_mask = '/kaggle/working/masks'\n",
    "    os.makedirs(output_dir_mask, exist_ok=True)\n",
    "    output_dir_metrices = '/kaggle/working/metrices'\n",
    "    os.makedirs(output_dir_metrices, exist_ok=True)\n",
    "    output_dir_mask_img = '/kaggle/working/mask_images'\n",
    "    os.makedirs(output_dir_mask_img, exist_ok=True)\n",
    "    \n",
    "    losses = []\n",
    "    dice_coeffs = []\n",
    "\n",
    "    for epoch in range(num_epochs):\n",
    "        model.train()\n",
    "        train_loss = 0.0\n",
    "        dice_score = 0.0\n",
    "        loop=tqdm(enumerate(train_loader), total=len(train_loader), unit=\"batch\", leave=False)\n",
    "        cnt_img=0\n",
    "        for i, (batch_images, batch_masks, batch_labels) in loop:\n",
    "            batch_images=batch_images.to('cuda')\n",
    "            batch_masks=batch_masks.to('cuda')\n",
    "            batch_labels=batch_labels.to('cuda')\n",
    "            optimizer.zero_grad()\n",
    "            seg_loss = 0.0\n",
    "            batch_dice = 0.0\n",
    "            for j in range(batch_images.size(0)):\n",
    "                cnt_img+=1\n",
    "                if(cnt_img%10==0):\n",
    "                    print(cnt_img)\n",
    "                segmentation = torch.zeros_like(batch_masks[j], requires_grad=True)\n",
    "#                 print(segmentation.shape,\" mask seg shape pred\")\n",
    "                for k in range(0, batch_images.size(2) - 64 + 1):\n",
    "                    for l in range(0, batch_images.size(3) - 64 + 1):\n",
    "                        window = batch_images[j, :, k:k + 65, l:l + 65]\n",
    "#                         print(window.shape, \" outer window\")\n",
    "                        if window.size() == (1, 65, 65):\n",
    "#                             print(window.shape,\" window shape\")\n",
    "                            window_output = model(window)\n",
    "#                             print(window_output.shape, \" output window shape pred\")\n",
    "                            window_output = torch.argmax(window_output,dim=0)\n",
    "#                             print(window_output, \" output\")\n",
    "                            segmentation[:, k, l] = window_output\n",
    "                mask_img = batch_masks[j] * batch_labels[j]\n",
    "                seg_loss += loss_fn(segmentation, mask_img)\n",
    "                batch_dice += dice_coefficient(segmentation, mask_img).item()\n",
    "\n",
    "                if j % 20 == 0:\n",
    "                    save_path = os.path.join(output_dir_mask_img, f'epoch_{epoch+1}_batch_{i}_image_{j}.png')\n",
    "                    save_tensor_as_image(segmentation, save_path)\n",
    "                    binary_pred_mask = (segmentation > 0.5).float()\n",
    "                    fig, ax = plt.subplots(1, 2, figsize=(10, 5))\n",
    "                    ax[0].imshow(binary_pred_mask.squeeze().cpu().numpy(), cmap='gray')\n",
    "                    ax[0].set_title('Predicted Mask')\n",
    "                    ax[1].imshow(mask_img.squeeze().cpu().numpy(), cmap='gray')\n",
    "                    ax[1].set_title('Ground Truth Mask')\n",
    "                    plt.savefig(os.path.join(output_dir_mask, f\"epoch_{epoch+1}_batch_{i}_image_{j}.png\"))\n",
    "                    plt.close(fig)\n",
    "\n",
    "            seg_loss.backward()\n",
    "            optimizer.step()\n",
    "            train_loss += seg_loss.item()\n",
    "            dice_score += batch_dice / batch_images.size(0)\n",
    "        \n",
    "        loop.set_description(f\"Training Epoch {epoch+1}/{num_epochs}\")\n",
    "        loop.set_postfix(loss=loss.item())\n",
    "        if epoch % 10 == 0:\n",
    "            lr_scheduler.step()\n",
    "\n",
    "        avg_loss = train_loss / len(train_loader)\n",
    "        avg_dice = dice_score / len(train_loader)\n",
    "        \n",
    "        losses.append(avg_loss)\n",
    "        dice_coeffs.append(avg_dice)\n",
    "        print(f\"Epoch {epoch+1}, Loss: {avg_loss}, Dice Coefficient: {avg_dice}\")\n",
    "\n",
    "        checkpoint_path = os.path.join(checkpoint_dir, f\"checkpoint_epoch_{epoch+1}.pth.tar\")\n",
    "        save_checkpoint({\n",
    "            'epoch': epoch + 1,\n",
    "            'state_dict': model.state_dict(),\n",
    "            'optimizer': optimizer.state_dict(),\n",
    "            'loss': avg_loss,\n",
    "            'dice_coefficient': avg_dice,\n",
    "        }, filename=checkpoint_path)\n",
    "        \n",
    "    metrics = {\n",
    "        'losses': losses,\n",
    "        'dice_coeffs': dice_coeffs\n",
    "    }\n",
    "    metrics_path = os.path.join(output_dir_metrices, 'metrics.json')\n",
    "    with open(metrics_path, 'w') as f:\n",
    "        json.dump(metrics, f)\n",
    "\n",
    "def dice_coefficient(prediction, target):\n",
    "    smooth = 1e-5\n",
    "    intersection = torch.sum(prediction * target)\n",
    "    union = torch.sum(prediction) + torch.sum(target)\n",
    "    dice = (2 * intersection + smooth) / (union + smooth)\n",
    "    return dice\n",
    "\n",
    "# Example usage:\n",
    "# model = MultiscaleCNN()\n",
    "# train_loader = ...  # Define your DataLoader\n",
    "# train(model, train_loader)\n"
   ]
  },
  {
   "cell_type": "code",
   "execution_count": 15,
   "id": "affe97b8",
   "metadata": {
    "execution": {
     "iopub.execute_input": "2024-05-25T20:45:08.388807Z",
     "iopub.status.busy": "2024-05-25T20:45:08.388518Z",
     "iopub.status.idle": "2024-05-25T20:45:10.177153Z",
     "shell.execute_reply": "2024-05-25T20:45:10.160712Z"
    },
    "papermill": {
     "duration": 1.798755,
     "end_time": "2024-05-25T20:45:10.179572",
     "exception": true,
     "start_time": "2024-05-25T20:45:08.380817",
     "status": "failed"
    },
    "tags": []
   },
   "outputs": [
    {
     "name": "stderr",
     "output_type": "stream",
     "text": [
      "                                         \r"
     ]
    },
    {
     "ename": "RuntimeError",
     "evalue": "a view of a leaf Variable that requires grad is being used in an in-place operation.",
     "output_type": "error",
     "traceback": [
      "\u001b[0;31m---------------------------------------------------------------------------\u001b[0m",
      "\u001b[0;31mRuntimeError\u001b[0m                              Traceback (most recent call last)",
      "Cell \u001b[0;32mIn[15], line 1\u001b[0m\n\u001b[0;32m----> 1\u001b[0m \u001b[43mtrain\u001b[49m\u001b[43m(\u001b[49m\u001b[43mmodel\u001b[49m\u001b[43m,\u001b[49m\u001b[43m \u001b[49m\u001b[43mtrain_loader\u001b[49m\u001b[43m,\u001b[49m\u001b[43m \u001b[49m\u001b[38;5;241;43m1\u001b[39;49m\u001b[43m)\u001b[49m\n",
      "Cell \u001b[0;32mIn[14], line 56\u001b[0m, in \u001b[0;36mtrain\u001b[0;34m(model, train_loader, num_epochs, checkpoint_dir)\u001b[0m\n\u001b[1;32m     54\u001b[0m                             window_output \u001b[38;5;241m=\u001b[39m torch\u001b[38;5;241m.\u001b[39margmax(window_output,dim\u001b[38;5;241m=\u001b[39m\u001b[38;5;241m0\u001b[39m)\n\u001b[1;32m     55\u001b[0m \u001b[38;5;66;03m#                             print(window_output, \" output\")\u001b[39;00m\n\u001b[0;32m---> 56\u001b[0m                             \u001b[43msegmentation\u001b[49m\u001b[43m[\u001b[49m\u001b[43m:\u001b[49m\u001b[43m,\u001b[49m\u001b[43m \u001b[49m\u001b[43mk\u001b[49m\u001b[43m,\u001b[49m\u001b[43m \u001b[49m\u001b[43ml\u001b[49m\u001b[43m]\u001b[49m \u001b[38;5;241m=\u001b[39m window_output\n\u001b[1;32m     57\u001b[0m                 mask_img \u001b[38;5;241m=\u001b[39m batch_masks[j] \u001b[38;5;241m*\u001b[39m batch_labels[j]\n\u001b[1;32m     58\u001b[0m                 seg_loss \u001b[38;5;241m+\u001b[39m\u001b[38;5;241m=\u001b[39m loss_fn(segmentation, mask_img)\n",
      "\u001b[0;31mRuntimeError\u001b[0m: a view of a leaf Variable that requires grad is being used in an in-place operation."
     ]
    }
   ],
   "source": [
    "train(model, train_loader, 1)"
   ]
  },
  {
   "cell_type": "code",
   "execution_count": null,
   "id": "9aec265a",
   "metadata": {
    "execution": {
     "iopub.status.busy": "2024-05-22T07:07:25.391227Z",
     "iopub.status.idle": "2024-05-22T07:07:25.391543Z",
     "shell.execute_reply": "2024-05-22T07:07:25.391400Z",
     "shell.execute_reply.started": "2024-05-22T07:07:25.391387Z"
    },
    "papermill": {
     "duration": null,
     "end_time": null,
     "exception": null,
     "start_time": null,
     "status": "pending"
    },
    "tags": []
   },
   "outputs": [],
   "source": [
    "# dataset = CustomDataset(images, masks, labels)\n",
    "# train_loader = DataLoader(dataset, batch_size=4, shuffle=True)\n"
   ]
  },
  {
   "cell_type": "code",
   "execution_count": null,
   "id": "18475328",
   "metadata": {
    "papermill": {
     "duration": null,
     "end_time": null,
     "exception": null,
     "start_time": null,
     "status": "pending"
    },
    "tags": []
   },
   "outputs": [],
   "source": []
  },
  {
   "cell_type": "code",
   "execution_count": null,
   "id": "fa71d02a",
   "metadata": {
    "papermill": {
     "duration": null,
     "end_time": null,
     "exception": null,
     "start_time": null,
     "status": "pending"
    },
    "tags": []
   },
   "outputs": [],
   "source": []
  }
 ],
 "metadata": {
  "kaggle": {
   "accelerator": "gpu",
   "dataSources": [
    {
     "datasetId": 5041595,
     "sourceId": 8458358,
     "sourceType": "datasetVersion"
    }
   ],
   "dockerImageVersionId": 30699,
   "isGpuEnabled": true,
   "isInternetEnabled": true,
   "language": "python",
   "sourceType": "notebook"
  },
  "kernelspec": {
   "display_name": "Python 3",
   "language": "python",
   "name": "python3"
  },
  "language_info": {
   "codemirror_mode": {
    "name": "ipython",
    "version": 3
   },
   "file_extension": ".py",
   "mimetype": "text/x-python",
   "name": "python",
   "nbconvert_exporter": "python",
   "pygments_lexer": "ipython3",
   "version": "3.10.13"
  },
  "papermill": {
   "default_parameters": {},
   "duration": 38.453785,
   "end_time": "2024-05-25T20:45:12.813589",
   "environment_variables": {},
   "exception": true,
   "input_path": "__notebook__.ipynb",
   "output_path": "__notebook__.ipynb",
   "parameters": {},
   "start_time": "2024-05-25T20:44:34.359804",
   "version": "2.5.0"
  }
 },
 "nbformat": 4,
 "nbformat_minor": 5
}
