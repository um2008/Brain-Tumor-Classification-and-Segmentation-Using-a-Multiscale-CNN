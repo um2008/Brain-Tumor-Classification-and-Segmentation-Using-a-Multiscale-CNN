{
 "cells": [
  {
   "cell_type": "code",
   "execution_count": 1,
   "metadata": {},
   "outputs": [
    {
     "name": "stdout",
     "output_type": "stream",
     "text": [
      "WARNING:tensorflow:From C:\\Users\\unnat\\AppData\\Roaming\\Python\\Python311\\site-packages\\keras\\src\\losses.py:2976: The name tf.losses.sparse_softmax_cross_entropy is deprecated. Please use tf.compat.v1.losses.sparse_softmax_cross_entropy instead.\n",
      "\n"
     ]
    }
   ],
   "source": [
    "import PIL\n",
    "import numpy as np\n",
    "import pandas as pd\n",
    "import matplotlib.pyplot as plt\n",
    "import pickle\n",
    "import h5py\n",
    "import cv2\n",
    "import os\n",
    "import tensorflow as tf"
   ]
  },
  {
   "cell_type": "code",
   "execution_count": 4,
   "metadata": {},
   "outputs": [
    {
     "name": "stdout",
     "output_type": "stream",
     "text": [
      "3064 files successfully saved\n"
     ]
    },
    {
     "data": {
      "image/png": "[encoded data removed]",
      "text/plain": [
       "<Figure size 640x480 with 1 Axes>"
      ]
     },
     "metadata": {},
     "output_type": "display_data"
    }
   ],
   "source": [
    "import h5py\n",
    "\n",
    "filename = None\n",
    "labels=[]\n",
    "\n",
    "\n",
    "for filename in range(1, 3065):\n",
    "  with h5py.File(\"C:\\\\Users\\\\unnat\\\\OneDrive\\\\Desktop\\\\MI Project Dataset\\\\{}.mat\".format(filename), 'r') as f:\n",
    "      image = f['cjdata']['image']\n",
    "      label = f['cjdata']['label'][0][0]\n",
    "      mask=f['cjdata']['tumorMask']\n",
    "\n",
    "      image = tf.convert_to_tensor(image, dtype=tf.float32)\n",
    "      labels.append(label)\n",
    "      tumor_mask = tf.convert_to_tensor(mask, dtype=tf.int32)\n",
    "      plt.axis('off')\n",
    "      plt.imsave(\"C:\\\\Users\\\\unnat\\\\OneDrive\\\\Desktop\\\\MIA Dataset\\\\Images\\\\{}.png\".format(filename), image, cmap='gray')\n",
    "      plt.imsave(\"C:\\\\Users\\\\unnat\\\\OneDrive\\\\Desktop\\\\MIA Dataset\\\\Masks\\\\{}.png\".format(filename), mask, cmap='gray')\n",
    "      \n",
    "      \n",
    "print(\"{} files successfully saved\".format(filename))"
   ]
  }
 ],
 "metadata": {
  "kernelspec": {
   "display_name": "Python 3",
   "language": "python",
   "name": "python3"
  },
  "language_info": {
   "codemirror_mode": {
    "name": "ipython",
    "version": 3
   },
   "file_extension": ".py",
   "mimetype": "text/x-python",
   "name": "python",
   "nbconvert_exporter": "python",
   "pygments_lexer": "ipython3",
   "version": "3.11.3"
  }
 },
 "nbformat": 4,
 "nbformat_minor": 2
}
